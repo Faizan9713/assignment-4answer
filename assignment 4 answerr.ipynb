{
 "cells": [
  {
   "cell_type": "code",
   "execution_count": null,
   "id": "9d3fb1b3",
   "metadata": {},
   "outputs": [],
   "source": [
    "#1. What exactly is []?\n",
    "ans = this is empty list value , which is list value that contain no items []\n"
   ]
  },
  {
   "cell_type": "code",
   "execution_count": null,
   "id": "9c0a0dc8",
   "metadata": {},
   "outputs": [],
   "source": [
    "#2. In a list of values stored in a variable called spam, how would you assign the value 'hello' as the\n",
    "#third value? (Assume [2, 4, 6, 8, 10] are in spam.)\n",
    "\n"
   ]
  },
  {
   "cell_type": "code",
   "execution_count": 1,
   "id": "1e02a244",
   "metadata": {},
   "outputs": [],
   "source": [
    "#ans\n",
    "spam = [1,2,3,4,5,6]"
   ]
  },
  {
   "cell_type": "code",
   "execution_count": 2,
   "id": "e556b671",
   "metadata": {},
   "outputs": [
    {
     "data": {
      "text/plain": [
       "[1, 2, 3, 4, 5, 6]"
      ]
     },
     "execution_count": 2,
     "metadata": {},
     "output_type": "execute_result"
    }
   ],
   "source": [
    "spam"
   ]
  },
  {
   "cell_type": "code",
   "execution_count": 3,
   "id": "0cd9348e",
   "metadata": {},
   "outputs": [],
   "source": [
    "spam[2] = \"Hello\""
   ]
  },
  {
   "cell_type": "code",
   "execution_count": 4,
   "id": "a059d6ba",
   "metadata": {},
   "outputs": [
    {
     "data": {
      "text/plain": [
       "[1, 2, 'Hello', 4, 5, 6]"
      ]
     },
     "execution_count": 4,
     "metadata": {},
     "output_type": "execute_result"
    }
   ],
   "source": [
    "spam"
   ]
  },
  {
   "cell_type": "code",
   "execution_count": null,
   "id": "f7f720e6",
   "metadata": {},
   "outputs": [],
   "source": [
    "Lets pretend the spam includes the list [\"a\",\"b\",\"c\",\"d\"] for the next three queries.\n",
    "\n",
    "#3. What is the value of spam[int(int(3  * 2) / 11)]?\n"
   ]
  },
  {
   "cell_type": "code",
   "execution_count": 5,
   "id": "db213c0d",
   "metadata": {},
   "outputs": [],
   "source": [
    "spam = [\"a\",\"b\",\"c\",\"d\"]"
   ]
  },
  {
   "cell_type": "code",
   "execution_count": 7,
   "id": "e3f79102",
   "metadata": {},
   "outputs": [
    {
     "data": {
      "text/plain": [
       "'d'"
      ]
     },
     "execution_count": 7,
     "metadata": {},
     "output_type": "execute_result"
    }
   ],
   "source": [
    "spam[int(int('3'  * 2) / 11)]"
   ]
  },
  {
   "cell_type": "code",
   "execution_count": null,
   "id": "aadc6e5d",
   "metadata": {},
   "outputs": [],
   "source": [
    "#4. What is the value of spam[-1]?\n"
   ]
  },
  {
   "cell_type": "code",
   "execution_count": 8,
   "id": "25d0d0d8",
   "metadata": {},
   "outputs": [
    {
     "data": {
      "text/plain": [
       "'d'"
      ]
     },
     "execution_count": 8,
     "metadata": {},
     "output_type": "execute_result"
    }
   ],
   "source": [
    "spam[-1] #negative indexing"
   ]
  },
  {
   "cell_type": "code",
   "execution_count": null,
   "id": "c8e4b18d",
   "metadata": {},
   "outputs": [],
   "source": [
    "#5. What is the value of spam[:2]?"
   ]
  },
  {
   "cell_type": "code",
   "execution_count": 9,
   "id": "6f18e25b",
   "metadata": {},
   "outputs": [
    {
     "data": {
      "text/plain": [
       "['a', 'b']"
      ]
     },
     "execution_count": 9,
     "metadata": {},
     "output_type": "execute_result"
    }
   ],
   "source": [
    "spam[:-2] #"
   ]
  },
  {
   "cell_type": "code",
   "execution_count": null,
   "id": "4c690e4f",
   "metadata": {},
   "outputs": [],
   "source": [
    "Lets pretend bacon has the list [3.14,\"cat\" , 11 , 'cat' ,True] for the next three questions."
   ]
  },
  {
   "cell_type": "code",
   "execution_count": 10,
   "id": "5dd4b138",
   "metadata": {},
   "outputs": [],
   "source": [
    "bacon = [3.14,\"cat\" , 11 , 'cat' ,True]"
   ]
  },
  {
   "cell_type": "code",
   "execution_count": null,
   "id": "28a5741d",
   "metadata": {},
   "outputs": [],
   "source": [
    "#6. What is the value of bacon.index(\"cat\")?"
   ]
  },
  {
   "cell_type": "code",
   "execution_count": 11,
   "id": "d38f2fea",
   "metadata": {},
   "outputs": [
    {
     "data": {
      "text/plain": [
       "1"
      ]
     },
     "execution_count": 11,
     "metadata": {},
     "output_type": "execute_result"
    }
   ],
   "source": [
    "bacon.index(\"cat\") # its shows the position no of value"
   ]
  },
  {
   "cell_type": "code",
   "execution_count": null,
   "id": "1af9c1f0",
   "metadata": {},
   "outputs": [],
   "source": [
    "#7. How does bacon.append(99) change the look of the list value in bacon?"
   ]
  },
  {
   "cell_type": "code",
   "execution_count": 12,
   "id": "0731a645",
   "metadata": {},
   "outputs": [],
   "source": [
    "bacon = [3.14,\"cat\" , 11 , 'cat' ,True]\n",
    "bacon.append(99)"
   ]
  },
  {
   "cell_type": "code",
   "execution_count": 13,
   "id": "ce5ba6a2",
   "metadata": {},
   "outputs": [
    {
     "data": {
      "text/plain": [
       "[3.14, 'cat', 11, 'cat', True, 99]"
      ]
     },
     "execution_count": 13,
     "metadata": {},
     "output_type": "execute_result"
    }
   ],
   "source": [
    "bacon # its end the value which is given in append () "
   ]
  },
  {
   "cell_type": "code",
   "execution_count": null,
   "id": "dcdea570",
   "metadata": {},
   "outputs": [],
   "source": [
    "8. How does bacon.remove(\"cat\") change the look of the list in bacon?"
   ]
  },
  {
   "cell_type": "code",
   "execution_count": 15,
   "id": "d6250713",
   "metadata": {},
   "outputs": [],
   "source": [
    "bacon = [3.14,\"cat\" , 11 , 'cat' ,True]"
   ]
  },
  {
   "cell_type": "code",
   "execution_count": 16,
   "id": "5095fb87",
   "metadata": {},
   "outputs": [],
   "source": [
    "bacon.remove(\"cat\") # its used to remove items"
   ]
  },
  {
   "cell_type": "code",
   "execution_count": 17,
   "id": "a8d6b670",
   "metadata": {},
   "outputs": [
    {
     "data": {
      "text/plain": [
       "[3.14, 11, 'cat', True]"
      ]
     },
     "execution_count": 17,
     "metadata": {},
     "output_type": "execute_result"
    }
   ],
   "source": [
    "bacon"
   ]
  },
  {
   "cell_type": "code",
   "execution_count": null,
   "id": "372417b3",
   "metadata": {},
   "outputs": [],
   "source": [
    "#9. What are the list concatenation and list replication operators?"
   ]
  },
  {
   "cell_type": "code",
   "execution_count": null,
   "id": "7b5705fd",
   "metadata": {},
   "outputs": [],
   "source": [
    "list concatenation is [ + ]\n",
    "list replication is  [ * ]"
   ]
  },
  {
   "cell_type": "code",
   "execution_count": 19,
   "id": "5c1daf6d",
   "metadata": {},
   "outputs": [
    {
     "data": {
      "text/plain": [
       "[2, 5, 6, 4, 5, 6, 9, 8, 5]"
      ]
     },
     "execution_count": 19,
     "metadata": {},
     "output_type": "execute_result"
    }
   ],
   "source": [
    "l1 = [2,5,6,4]\n",
    "l2 = [5,6,9,8,5]\n",
    "l1+l2"
   ]
  },
  {
   "cell_type": "code",
   "execution_count": 21,
   "id": "20a4d9ee",
   "metadata": {},
   "outputs": [
    {
     "data": {
      "text/plain": [
       "[5, 6, 9, 8, 5, 5, 6, 9, 8, 5]"
      ]
     },
     "execution_count": 21,
     "metadata": {},
     "output_type": "execute_result"
    }
   ],
   "source": [
    "l2*2"
   ]
  },
  {
   "cell_type": "code",
   "execution_count": null,
   "id": "307498e3",
   "metadata": {},
   "outputs": [],
   "source": [
    "#10. What is difference between the list methods append() and insert()?"
   ]
  },
  {
   "cell_type": "code",
   "execution_count": null,
   "id": "f6a553a8",
   "metadata": {},
   "outputs": [],
   "source": [
    "ans = append()  this object is used to the end of the list\n",
    "and \n",
    "insert()  this object is used to insert the value in index place which is given by us "
   ]
  },
  {
   "cell_type": "code",
   "execution_count": 22,
   "id": "455167f6",
   "metadata": {},
   "outputs": [
    {
     "data": {
      "text/plain": [
       "[2, 5, 6, 4]"
      ]
     },
     "execution_count": 22,
     "metadata": {},
     "output_type": "execute_result"
    }
   ],
   "source": [
    "l1"
   ]
  },
  {
   "cell_type": "code",
   "execution_count": 23,
   "id": "c07e82c0",
   "metadata": {},
   "outputs": [],
   "source": [
    "l1.append(1000)"
   ]
  },
  {
   "cell_type": "code",
   "execution_count": 24,
   "id": "c1540e2b",
   "metadata": {},
   "outputs": [
    {
     "data": {
      "text/plain": [
       "[2, 5, 6, 4, 1000]"
      ]
     },
     "execution_count": 24,
     "metadata": {},
     "output_type": "execute_result"
    }
   ],
   "source": [
    "l1"
   ]
  },
  {
   "cell_type": "code",
   "execution_count": 25,
   "id": "963ca3e4",
   "metadata": {},
   "outputs": [
    {
     "data": {
      "text/plain": [
       "[5, 6, 9, 8, 5]"
      ]
     },
     "execution_count": 25,
     "metadata": {},
     "output_type": "execute_result"
    }
   ],
   "source": [
    "l2"
   ]
  },
  {
   "cell_type": "code",
   "execution_count": 26,
   "id": "fb80cc7a",
   "metadata": {},
   "outputs": [],
   "source": [
    "l2.insert(4 , 777)"
   ]
  },
  {
   "cell_type": "code",
   "execution_count": 27,
   "id": "a1b306b5",
   "metadata": {},
   "outputs": [
    {
     "data": {
      "text/plain": [
       "[5, 6, 9, 8, 777, 5]"
      ]
     },
     "execution_count": 27,
     "metadata": {},
     "output_type": "execute_result"
    }
   ],
   "source": [
    "l2"
   ]
  },
  {
   "cell_type": "code",
   "execution_count": null,
   "id": "1a2b6bb9",
   "metadata": {},
   "outputs": [],
   "source": [
    "#11. What are the two methods for removing items from a list?"
   ]
  },
  {
   "cell_type": "code",
   "execution_count": null,
   "id": "b0800860",
   "metadata": {},
   "outputs": [],
   "source": [
    "the two methods for removing items is \n",
    "remove()   and pop ()\n",
    "\n",
    "\n"
   ]
  },
  {
   "cell_type": "code",
   "execution_count": 28,
   "id": "14c7eedd",
   "metadata": {},
   "outputs": [
    {
     "data": {
      "text/plain": [
       "[2, 5, 6, 4, 1000]"
      ]
     },
     "execution_count": 28,
     "metadata": {},
     "output_type": "execute_result"
    }
   ],
   "source": [
    "l1"
   ]
  },
  {
   "cell_type": "code",
   "execution_count": 29,
   "id": "37cb2b1e",
   "metadata": {},
   "outputs": [],
   "source": [
    "l1.remove(5)"
   ]
  },
  {
   "cell_type": "code",
   "execution_count": 30,
   "id": "6bf8dae4",
   "metadata": {},
   "outputs": [
    {
     "data": {
      "text/plain": [
       "[2, 6, 4, 1000]"
      ]
     },
     "execution_count": 30,
     "metadata": {},
     "output_type": "execute_result"
    }
   ],
   "source": [
    "l1"
   ]
  },
  {
   "cell_type": "code",
   "execution_count": 31,
   "id": "a5645e87",
   "metadata": {},
   "outputs": [
    {
     "data": {
      "text/plain": [
       "[5, 6, 9, 8, 777, 5]"
      ]
     },
     "execution_count": 31,
     "metadata": {},
     "output_type": "execute_result"
    }
   ],
   "source": [
    "l2"
   ]
  },
  {
   "cell_type": "code",
   "execution_count": 33,
   "id": "a381f7f4",
   "metadata": {},
   "outputs": [
    {
     "data": {
      "text/plain": [
       "9"
      ]
     },
     "execution_count": 33,
     "metadata": {},
     "output_type": "execute_result"
    }
   ],
   "source": [
    "l2.pop(2)"
   ]
  },
  {
   "cell_type": "code",
   "execution_count": 34,
   "id": "7987d417",
   "metadata": {},
   "outputs": [
    {
     "data": {
      "text/plain": [
       "[5, 6, 8, 777]"
      ]
     },
     "execution_count": 34,
     "metadata": {},
     "output_type": "execute_result"
    }
   ],
   "source": [
    "l2"
   ]
  },
  {
   "cell_type": "code",
   "execution_count": null,
   "id": "dcf67826",
   "metadata": {},
   "outputs": [],
   "source": [
    "#12. Describe how list values and string values are identical."
   ]
  },
  {
   "cell_type": "code",
   "execution_count": null,
   "id": "d2048422",
   "metadata": {},
   "outputs": [],
   "source": [
    "they both are can be passed to len \n",
    "they have indexing and slicesing\n",
    "they can be used in for loop\n",
    "they can be concatinated and replicated \n"
   ]
  },
  {
   "cell_type": "code",
   "execution_count": null,
   "id": "d82af743",
   "metadata": {},
   "outputs": [],
   "source": [
    "#13. Whats the difference between tuples and lists?"
   ]
  },
  {
   "cell_type": "code",
   "execution_count": null,
   "id": "34a190cb",
   "metadata": {},
   "outputs": [],
   "source": [
    "ans  =  list are mutable they have value added and removed and changed list shows in []\n",
    "tuples are immutable they have not changed or removed or tupel shows in ()"
   ]
  },
  {
   "cell_type": "code",
   "execution_count": null,
   "id": "ce7a7b92",
   "metadata": {},
   "outputs": [],
   "source": [
    "#14. How do you type a tuple value that only contains the integer 42?"
   ]
  },
  {
   "cell_type": "code",
   "execution_count": 37,
   "id": "05562a4a",
   "metadata": {},
   "outputs": [],
   "source": [
    "tuple = (42)"
   ]
  },
  {
   "cell_type": "code",
   "execution_count": 38,
   "id": "ac5e2f16",
   "metadata": {},
   "outputs": [
    {
     "data": {
      "text/plain": [
       "42"
      ]
     },
     "execution_count": 38,
     "metadata": {},
     "output_type": "execute_result"
    }
   ],
   "source": [
    "tuple"
   ]
  },
  {
   "cell_type": "code",
   "execution_count": null,
   "id": "d01bf29d",
   "metadata": {},
   "outputs": [],
   "source": [
    "#15. How do you get a list values tuple form? How do you get a tuple values list form?"
   ]
  },
  {
   "cell_type": "code",
   "execution_count": 49,
   "id": "18a9d0da",
   "metadata": {},
   "outputs": [],
   "source": [
    "t1 = (2,4,5,6)"
   ]
  },
  {
   "cell_type": "code",
   "execution_count": 50,
   "id": "e7055ef4",
   "metadata": {},
   "outputs": [],
   "source": [
    "t = list(t1)"
   ]
  },
  {
   "cell_type": "code",
   "execution_count": 51,
   "id": "b349ca9a",
   "metadata": {},
   "outputs": [
    {
     "data": {
      "text/plain": [
       "[2, 4, 5, 6]"
      ]
     },
     "execution_count": 51,
     "metadata": {},
     "output_type": "execute_result"
    }
   ],
   "source": [
    "t"
   ]
  },
  {
   "cell_type": "code",
   "execution_count": 1,
   "id": "6dee5b49",
   "metadata": {},
   "outputs": [
    {
     "data": {
      "text/plain": [
       "(2, 3)"
      ]
     },
     "execution_count": 1,
     "metadata": {},
     "output_type": "execute_result"
    }
   ],
   "source": [
    "l1 = [2,3]\n",
    "l = tuple(l1)\n",
    "l"
   ]
  },
  {
   "cell_type": "code",
   "execution_count": null,
   "id": "a8b19b21",
   "metadata": {},
   "outputs": [],
   "source": [
    "#16. Variables that \"contain\" list values are not necessarily lists themselves. Instead, what do they\n",
    "#contain?\n",
    "ans  = they contain list value ()"
   ]
  },
  {
   "cell_type": "code",
   "execution_count": null,
   "id": "c8c4ed27",
   "metadata": {},
   "outputs": [],
   "source": [
    "#17. How do you distinguish between copy.copy() and copy.deepcopy()?\n",
    "ans = copy.copy () is the function of shallow copy of list\n",
    "copy.deepcopy() is the fucntion will do a copy of a list and only deep.copy will creat a duplictae any lists in the list\n"
   ]
  },
  {
   "cell_type": "code",
   "execution_count": null,
   "id": "ce92b259",
   "metadata": {},
   "outputs": [],
   "source": []
  },
  {
   "cell_type": "code",
   "execution_count": null,
   "id": "54f6f4b9",
   "metadata": {},
   "outputs": [],
   "source": []
  },
  {
   "cell_type": "code",
   "execution_count": null,
   "id": "8050f41f",
   "metadata": {},
   "outputs": [],
   "source": []
  }
 ],
 "metadata": {
  "kernelspec": {
   "display_name": "Python 3 (ipykernel)",
   "language": "python",
   "name": "python3"
  },
  "language_info": {
   "codemirror_mode": {
    "name": "ipython",
    "version": 3
   },
   "file_extension": ".py",
   "mimetype": "text/x-python",
   "name": "python",
   "nbconvert_exporter": "python",
   "pygments_lexer": "ipython3",
   "version": "3.9.12"
  }
 },
 "nbformat": 4,
 "nbformat_minor": 5
}
